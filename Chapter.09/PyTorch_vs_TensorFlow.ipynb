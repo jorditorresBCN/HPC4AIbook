{
  "nbformat": 4,
  "nbformat_minor": 0,
  "metadata": {
    "colab": {
      "provenance": [],
      "gpuType": "T4"
    },
    "kernelspec": {
      "name": "python3",
      "display_name": "Python 3"
    },
    "accelerator": "GPU"
  },
  "cells": [
    {
      "cell_type": "markdown",
      "metadata": {
        "id": "tdoE6vEwNdGV"
      },
      "source": [
        "# Program your first neural network with TensorFlow and PyTorch"
      ]
    },
    {
      "cell_type": "markdown",
      "metadata": {
        "id": "5sBybb7rH8tq"
      },
      "source": [
        "### 0. Import required libraries\n"
      ]
    },
    {
      "cell_type": "code",
      "metadata": {
        "id": "i-1cFdvBTVXU"
      },
      "source": [
        "# https://github.com/pytorch/vision/issues/1938#issuecomment-789986996\n",
        "from six.moves import urllib\n",
        "opener = urllib.request.build_opener()\n",
        "opener.addheaders = [('User-agent', 'Mozilla/5.0')]\n",
        "urllib.request.install_opener(opener)"
      ],
      "execution_count": 1,
      "outputs": []
    },
    {
      "cell_type": "code",
      "metadata": {
        "id": "7EcOEVawdheH"
      },
      "source": [
        "import numpy as np\n",
        "import matplotlib.pyplot as plt\n",
        "\n",
        "epochs = 10\n",
        "batch_size=64"
      ],
      "execution_count": 2,
      "outputs": []
    },
    {
      "cell_type": "markdown",
      "metadata": {
        "id": "RcRhDnSPIian"
      },
      "source": [
        "TensorFlow:"
      ]
    },
    {
      "cell_type": "code",
      "metadata": {
        "id": "Tn8QRRwEv_H7"
      },
      "source": [
        "import tensorflow as tf"
      ],
      "execution_count": 3,
      "outputs": []
    },
    {
      "cell_type": "markdown",
      "metadata": {
        "id": "jP7einqRINdx"
      },
      "source": [
        "PyTorch:"
      ]
    },
    {
      "cell_type": "code",
      "metadata": {
        "id": "7170o4YiW-q_"
      },
      "source": [
        "import torch\n",
        "import torchvision"
      ],
      "execution_count": 4,
      "outputs": []
    },
    {
      "cell_type": "markdown",
      "metadata": {
        "id": "3Y4YfUP5v_Sd"
      },
      "source": [
        "\n",
        "## 1. Load and Preprocessing Data\n",
        "\n",
        "TensorFlow:"
      ]
    },
    {
      "cell_type": "code",
      "metadata": {
        "id": "3q89YQ4YvlHJ",
        "outputId": "c02bb84c-2a42-4db0-9d22-ca61d469e71d",
        "colab": {
          "base_uri": "https://localhost:8080/"
        }
      },
      "source": [
        "(x_trainTF_, y_trainTF_), _ = tf.keras.datasets.mnist.load_data()\n",
        "\n",
        "x_trainTF = x_trainTF_.reshape(60000, 784).astype('float32')/255\n",
        "y_trainTF = tf.keras.utils.to_categorical(y_trainTF_, num_classes=10)\n"
      ],
      "execution_count": 5,
      "outputs": [
        {
          "output_type": "stream",
          "name": "stdout",
          "text": [
            "Downloading data from https://storage.googleapis.com/tensorflow/tf-keras-datasets/mnist.npz\n",
            "\u001b[1m11490434/11490434\u001b[0m \u001b[32m━━━━━━━━━━━━━━━━━━━━\u001b[0m\u001b[37m\u001b[0m \u001b[1m2s\u001b[0m 0us/step\n"
          ]
        }
      ]
    },
    {
      "cell_type": "markdown",
      "metadata": {
        "id": "cImyOirJSf_Y"
      },
      "source": [
        "PyTorch:"
      ]
    },
    {
      "cell_type": "code",
      "metadata": {
        "id": "gFfRDxkeXRn8",
        "colab": {
          "base_uri": "https://localhost:8080/"
        },
        "outputId": "9c12a35a-c9a7-440b-ebf2-954a5511015e"
      },
      "source": [
        "xy_trainPT = torchvision.datasets.MNIST(root='./data', train=True, download=True, transform=torchvision.transforms.Compose([torchvision.transforms.ToTensor()]))\n",
        "\n",
        "xy_trainPT_loader = torch.utils.data.DataLoader(xy_trainPT, batch_size=batch_size)\n"
      ],
      "execution_count": 6,
      "outputs": [
        {
          "output_type": "stream",
          "name": "stderr",
          "text": [
            "100%|██████████| 9.91M/9.91M [00:01<00:00, 4.96MB/s]\n",
            "100%|██████████| 28.9k/28.9k [00:00<00:00, 130kB/s]\n",
            "100%|██████████| 1.65M/1.65M [00:01<00:00, 1.24MB/s]\n",
            "100%|██████████| 4.54k/4.54k [00:00<00:00, 6.23MB/s]\n"
          ]
        }
      ]
    },
    {
      "cell_type": "markdown",
      "metadata": {
        "id": "EoHC38QWcaFq"
      },
      "source": [
        "Checking the data:"
      ]
    },
    {
      "cell_type": "code",
      "metadata": {
        "id": "MKzUnu7pfjM8",
        "colab": {
          "base_uri": "https://localhost:8080/",
          "height": 144
        },
        "outputId": "b8894e88-794a-4c59-95e6-427ca7bdc3b9"
      },
      "source": [
        "print(\"TensorFlow:\")\n",
        "fig = plt.figure(figsize=(25, 4))\n",
        "for idx in np.arange(20):\n",
        "    ax = fig.add_subplot(2, 10, idx+1, xticks=[], yticks=[])\n",
        "    ax.imshow(x_trainTF_[idx], cmap=plt.cm.binary)\n",
        "    ax.set_title(str(y_trainTF_[idx]))"
      ],
      "execution_count": 7,
      "outputs": [
        {
          "output_type": "stream",
          "name": "stdout",
          "text": [
            "TensorFlow:\n"
          ]
        },
        {
          "output_type": "display_data",
          "data": {
            "text/plain": [
              "<Figure size 2500x400 with 20 Axes>"
            ],
            "image/png": "[encoded data removed]"
          },
          "metadata": {}
        }
      ]
    },
    {
      "cell_type": "code",
      "metadata": {
        "id": "QrmyukAagUXF",
        "colab": {
          "base_uri": "https://localhost:8080/",
          "height": 144
        },
        "outputId": "38fba23f-2187-4f8e-bb8c-3391c1fc9478"
      },
      "source": [
        "print(\"Pytorch:\")\n",
        "fig = plt.figure(figsize=(25, 4))\n",
        "for idx in np.arange(20):\n",
        "    ax = fig.add_subplot(2, 10, idx+1, xticks=[], yticks=[])\n",
        "    image, label = xy_trainPT [idx]\n",
        "    ax.imshow(torch.squeeze(image, dim = 0).numpy(), cmap=plt.cm.binary)\n",
        "    ax.set_title(str(label))"
      ],
      "execution_count": 8,
      "outputs": [
        {
          "output_type": "stream",
          "name": "stdout",
          "text": [
            "Pytorch:\n"
          ]
        },
        {
          "output_type": "display_data",
          "data": {
            "text/plain": [
              "<Figure size 2500x400 with 20 Axes>"
            ],
            "image/png": "[encoded data removed]"
          },
          "metadata": {}
        }
      ]
    },
    {
      "cell_type": "markdown",
      "metadata": {
        "id": "EQ4WhZgxwMT7"
      },
      "source": [
        "## 2 - Define Model\n",
        "TensorFlow:"
      ]
    },
    {
      "cell_type": "code",
      "metadata": {
        "id": "DZS9dcqLkhgI",
        "colab": {
          "base_uri": "https://localhost:8080/"
        },
        "outputId": "102b4fc2-924e-4972-9bc5-be17ddb532b9"
      },
      "source": [
        "modelTF = tf.keras.Sequential([\n",
        "                             tf.keras.layers.Dense(10,activation='sigmoid',input_shape=(784,)),\n",
        "                             tf.keras.layers.Dense(10,activation='softmax')\n",
        "            ])"
      ],
      "execution_count": 9,
      "outputs": [
        {
          "output_type": "stream",
          "name": "stderr",
          "text": [
            "/usr/local/lib/python3.12/dist-packages/keras/src/layers/core/dense.py:93: UserWarning: Do not pass an `input_shape`/`input_dim` argument to a layer. When using Sequential models, prefer using an `Input(shape)` object as the first layer in the model instead.\n",
            "  super().__init__(activity_regularizer=activity_regularizer, **kwargs)\n"
          ]
        }
      ]
    },
    {
      "cell_type": "markdown",
      "metadata": {
        "id": "DKwuhlo-KB4m"
      },
      "source": [
        "PyTorch:"
      ]
    },
    {
      "cell_type": "code",
      "metadata": {
        "id": "YmcR4WgtXW47"
      },
      "source": [
        "modelPT=torch.nn.Sequential(torch.nn.Linear(784,10),\n",
        "                          torch.nn.Sigmoid(),\n",
        "                          torch.nn.Linear(10,10),\n",
        "                          torch.nn.LogSoftmax(dim=1)\n",
        "                         )"
      ],
      "execution_count": 10,
      "outputs": []
    },
    {
      "cell_type": "markdown",
      "metadata": {
        "id": "nznjSb67wVoN"
      },
      "source": [
        "##3. Define the Optimizer and the Loss function\n",
        "\n",
        "TensorFlow:"
      ]
    },
    {
      "cell_type": "code",
      "metadata": {
        "id": "e5Q_bhoQwVwz"
      },
      "source": [
        "modelTF.compile(\n",
        "               loss=\"categorical_crossentropy\",\n",
        "               optimizer=tf.optimizers.SGD(learning_rate=0.01),\n",
        "               metrics = ['accuracy']\n",
        "               )\n"
      ],
      "execution_count": 11,
      "outputs": []
    },
    {
      "cell_type": "markdown",
      "metadata": {
        "id": "dIRN8mOKyZWD"
      },
      "source": [
        "PyTorch:"
      ]
    },
    {
      "cell_type": "code",
      "metadata": {
        "id": "nLZItZq-Xoyg"
      },
      "source": [
        "criterion = torch.nn.NLLLoss()\n",
        "optimizer = torch.optim.SGD(modelPT.parameters(), lr=0.01)\n"
      ],
      "execution_count": 12,
      "outputs": []
    },
    {
      "cell_type": "markdown",
      "metadata": {
        "id": "fy1_u0YYwdti"
      },
      "source": [
        "##4. Train the model"
      ]
    },
    {
      "cell_type": "markdown",
      "metadata": {
        "id": "fkQ21uMgqDKM"
      },
      "source": [
        "TensorFlow:"
      ]
    },
    {
      "cell_type": "code",
      "metadata": {
        "id": "55aY4oLiwd1x"
      },
      "source": [
        "_ = modelTF.fit(x_trainTF, y_trainTF, epochs=epochs, batch_size=batch_size, verbose = 0)\n"
      ],
      "execution_count": 13,
      "outputs": []
    },
    {
      "cell_type": "markdown",
      "metadata": {
        "id": "lXPI7doT56Vl"
      },
      "source": [
        "PyTorch:"
      ]
    },
    {
      "cell_type": "code",
      "metadata": {
        "id": "duDtzA2NXqqb"
      },
      "source": [
        "for e in range(epochs):\n",
        "    for images, labels in xy_trainPT_loader:\n",
        "        images = images.view(images.shape[0], -1)\n",
        "        loss = criterion(modelPT(images), labels)\n",
        "        loss.backward()\n",
        "        optimizer.step()\n",
        "        optimizer.zero_grad()"
      ],
      "execution_count": 14,
      "outputs": []
    },
    {
      "cell_type": "markdown",
      "metadata": {
        "id": "FlGBWabq44aM"
      },
      "source": [
        "## Evaluate the Model\n",
        "TensorFlow:"
      ]
    },
    {
      "cell_type": "code",
      "metadata": {
        "id": "SUCG3GxO5CZx",
        "colab": {
          "base_uri": "https://localhost:8080/"
        },
        "outputId": "0fbdaf12-20c4-4487-bc6e-77ac31bab848"
      },
      "source": [
        "_, (x_testTF, y_testTF)= tf.keras.datasets.mnist.load_data()\n",
        "x_testTF = x_testTF.reshape(10000, 784).astype('float32')/255\n",
        "y_testTF = tf.keras.utils.to_categorical(y_testTF, num_classes=10)\n",
        "\n",
        "_ , test_accTF = modelTF.evaluate(x_testTF, y_testTF, verbose=0)\n",
        "print('\\nTensorFlow model Accuracy =', test_accTF)"
      ],
      "execution_count": 15,
      "outputs": [
        {
          "output_type": "stream",
          "name": "stdout",
          "text": [
            "\n",
            "TensorFlow model Accuracy = 0.8743000030517578\n"
          ]
        }
      ]
    },
    {
      "cell_type": "markdown",
      "metadata": {
        "id": "CBYTJ_k0IkQG"
      },
      "source": [
        "PyTorch:"
      ]
    },
    {
      "cell_type": "code",
      "metadata": {
        "id": "GkNKY6BoXrvs",
        "colab": {
          "base_uri": "https://localhost:8080/"
        },
        "outputId": "c5561cd8-0c9d-40ab-e232-67db5f0226ee"
      },
      "source": [
        "xy_testPT = torchvision.datasets.MNIST(root='./data', train=False, download=True, transform=torchvision.transforms.Compose([torchvision.transforms.ToTensor()]))\n",
        "xy_test_loaderPT  = torch.utils.data.DataLoader(xy_testPT)\n",
        "\n",
        "correct_count, all_count = 0, 0\n",
        "for images,labels in xy_test_loaderPT:\n",
        "  for i in range(len(labels)):\n",
        "    img = images[i].view(1, 784)\n",
        "\n",
        "    logps = modelPT(img)\n",
        "    ps = torch.exp(logps)\n",
        "    probab = list(ps.detach().numpy()[0])\n",
        "    pred_label = probab.index(max(probab))\n",
        "    true_label = labels.numpy()[i]\n",
        "    if(true_label == pred_label):\n",
        "      correct_count += 1\n",
        "    all_count += 1\n",
        "\n",
        "print(\"\\nPyTorch model Accuracy  =\", (correct_count/all_count))"
      ],
      "execution_count": 16,
      "outputs": [
        {
          "output_type": "stream",
          "name": "stdout",
          "text": [
            "\n",
            "PyTorch model Accuracy  = 0.8718\n"
          ]
        }
      ]
    }
  ]
}